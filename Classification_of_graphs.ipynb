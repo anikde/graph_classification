{
  "nbformat": 4,
  "nbformat_minor": 0,
  "metadata": {
    "colab": {
      "name": "Classification_of_graphs.ipynb",
      "provenance": [],
      "collapsed_sections": []
    },
    "kernelspec": {
      "name": "python3",
      "display_name": "Python 3"
    },
    "language_info": {
      "name": "python"
    }
  },
  "cells": [
    {
      "cell_type": "code",
      "execution_count": null,
      "metadata": {
        "colab": {
          "base_uri": "https://localhost:8080/"
        },
        "id": "abPSIMtLgh5o",
        "outputId": "bad1e46a-c77a-4c40-d1c4-5de5b8231a63"
      },
      "outputs": [
        {
          "output_type": "stream",
          "name": "stdout",
          "text": [
            "Drive already mounted at /content/drive; to attempt to forcibly remount, call drive.mount(\"/content/drive\", force_remount=True).\n"
          ]
        }
      ],
      "source": [
        "from google.colab import drive\n",
        "drive.mount('/content/drive')"
      ]
    },
    {
      "cell_type": "code",
      "source": [
        "file_path = \"/content/drive/MyDrive/IIT Jodhpur/charts/train_val.csv\""
      ],
      "metadata": {
        "id": "Yue25VKUiEyR"
      },
      "execution_count": null,
      "outputs": []
    },
    {
      "cell_type": "code",
      "source": [
        "import pandas as pd\n",
        "\n",
        "df = pd.read_csv(file_path)\n",
        "df.head()"
      ],
      "metadata": {
        "colab": {
          "base_uri": "https://localhost:8080/",
          "height": 206
        },
        "id": "U5d2mzDxiKck",
        "outputId": "5756c18a-bc38-4606-a1de-5a10be12f1dc"
      },
      "execution_count": null,
      "outputs": [
        {
          "output_type": "execute_result",
          "data": {
            "text/plain": [
              "   image_index              type\n",
              "0            0  vbar_categorical\n",
              "1            1  vbar_categorical\n",
              "2            2  vbar_categorical\n",
              "3            3  vbar_categorical\n",
              "4            4  vbar_categorical"
            ],
            "text/html": [
              "\n",
              "  <div id=\"df-13dc5fa6-e695-42f7-913e-fd6b3c4df216\">\n",
              "    <div class=\"colab-df-container\">\n",
              "      <div>\n",
              "<style scoped>\n",
              "    .dataframe tbody tr th:only-of-type {\n",
              "        vertical-align: middle;\n",
              "    }\n",
              "\n",
              "    .dataframe tbody tr th {\n",
              "        vertical-align: top;\n",
              "    }\n",
              "\n",
              "    .dataframe thead th {\n",
              "        text-align: right;\n",
              "    }\n",
              "</style>\n",
              "<table border=\"1\" class=\"dataframe\">\n",
              "  <thead>\n",
              "    <tr style=\"text-align: right;\">\n",
              "      <th></th>\n",
              "      <th>image_index</th>\n",
              "      <th>type</th>\n",
              "    </tr>\n",
              "  </thead>\n",
              "  <tbody>\n",
              "    <tr>\n",
              "      <th>0</th>\n",
              "      <td>0</td>\n",
              "      <td>vbar_categorical</td>\n",
              "    </tr>\n",
              "    <tr>\n",
              "      <th>1</th>\n",
              "      <td>1</td>\n",
              "      <td>vbar_categorical</td>\n",
              "    </tr>\n",
              "    <tr>\n",
              "      <th>2</th>\n",
              "      <td>2</td>\n",
              "      <td>vbar_categorical</td>\n",
              "    </tr>\n",
              "    <tr>\n",
              "      <th>3</th>\n",
              "      <td>3</td>\n",
              "      <td>vbar_categorical</td>\n",
              "    </tr>\n",
              "    <tr>\n",
              "      <th>4</th>\n",
              "      <td>4</td>\n",
              "      <td>vbar_categorical</td>\n",
              "    </tr>\n",
              "  </tbody>\n",
              "</table>\n",
              "</div>\n",
              "      <button class=\"colab-df-convert\" onclick=\"convertToInteractive('df-13dc5fa6-e695-42f7-913e-fd6b3c4df216')\"\n",
              "              title=\"Convert this dataframe to an interactive table.\"\n",
              "              style=\"display:none;\">\n",
              "        \n",
              "  <svg xmlns=\"http://www.w3.org/2000/svg\" height=\"24px\"viewBox=\"0 0 24 24\"\n",
              "       width=\"24px\">\n",
              "    <path d=\"M0 0h24v24H0V0z\" fill=\"none\"/>\n",
              "    <path d=\"M18.56 5.44l.94 2.06.94-2.06 2.06-.94-2.06-.94-.94-2.06-.94 2.06-2.06.94zm-11 1L8.5 8.5l.94-2.06 2.06-.94-2.06-.94L8.5 2.5l-.94 2.06-2.06.94zm10 10l.94 2.06.94-2.06 2.06-.94-2.06-.94-.94-2.06-.94 2.06-2.06.94z\"/><path d=\"M17.41 7.96l-1.37-1.37c-.4-.4-.92-.59-1.43-.59-.52 0-1.04.2-1.43.59L10.3 9.45l-7.72 7.72c-.78.78-.78 2.05 0 2.83L4 21.41c.39.39.9.59 1.41.59.51 0 1.02-.2 1.41-.59l7.78-7.78 2.81-2.81c.8-.78.8-2.07 0-2.86zM5.41 20L4 18.59l7.72-7.72 1.47 1.35L5.41 20z\"/>\n",
              "  </svg>\n",
              "      </button>\n",
              "      \n",
              "  <style>\n",
              "    .colab-df-container {\n",
              "      display:flex;\n",
              "      flex-wrap:wrap;\n",
              "      gap: 12px;\n",
              "    }\n",
              "\n",
              "    .colab-df-convert {\n",
              "      background-color: #E8F0FE;\n",
              "      border: none;\n",
              "      border-radius: 50%;\n",
              "      cursor: pointer;\n",
              "      display: none;\n",
              "      fill: #1967D2;\n",
              "      height: 32px;\n",
              "      padding: 0 0 0 0;\n",
              "      width: 32px;\n",
              "    }\n",
              "\n",
              "    .colab-df-convert:hover {\n",
              "      background-color: #E2EBFA;\n",
              "      box-shadow: 0px 1px 2px rgba(60, 64, 67, 0.3), 0px 1px 3px 1px rgba(60, 64, 67, 0.15);\n",
              "      fill: #174EA6;\n",
              "    }\n",
              "\n",
              "    [theme=dark] .colab-df-convert {\n",
              "      background-color: #3B4455;\n",
              "      fill: #D2E3FC;\n",
              "    }\n",
              "\n",
              "    [theme=dark] .colab-df-convert:hover {\n",
              "      background-color: #434B5C;\n",
              "      box-shadow: 0px 1px 3px 1px rgba(0, 0, 0, 0.15);\n",
              "      filter: drop-shadow(0px 1px 2px rgba(0, 0, 0, 0.3));\n",
              "      fill: #FFFFFF;\n",
              "    }\n",
              "  </style>\n",
              "\n",
              "      <script>\n",
              "        const buttonEl =\n",
              "          document.querySelector('#df-13dc5fa6-e695-42f7-913e-fd6b3c4df216 button.colab-df-convert');\n",
              "        buttonEl.style.display =\n",
              "          google.colab.kernel.accessAllowed ? 'block' : 'none';\n",
              "\n",
              "        async function convertToInteractive(key) {\n",
              "          const element = document.querySelector('#df-13dc5fa6-e695-42f7-913e-fd6b3c4df216');\n",
              "          const dataTable =\n",
              "            await google.colab.kernel.invokeFunction('convertToInteractive',\n",
              "                                                     [key], {});\n",
              "          if (!dataTable) return;\n",
              "\n",
              "          const docLinkHtml = 'Like what you see? Visit the ' +\n",
              "            '<a target=\"_blank\" href=https://colab.research.google.com/notebooks/data_table.ipynb>data table notebook</a>'\n",
              "            + ' to learn more about interactive tables.';\n",
              "          element.innerHTML = '';\n",
              "          dataTable['output_type'] = 'display_data';\n",
              "          await google.colab.output.renderOutput(dataTable, element);\n",
              "          const docLink = document.createElement('div');\n",
              "          docLink.innerHTML = docLinkHtml;\n",
              "          element.appendChild(docLink);\n",
              "        }\n",
              "      </script>\n",
              "    </div>\n",
              "  </div>\n",
              "  "
            ]
          },
          "metadata": {},
          "execution_count": 3
        }
      ]
    },
    {
      "cell_type": "code",
      "source": [
        "df.type.unique()"
      ],
      "metadata": {
        "colab": {
          "base_uri": "https://localhost:8080/"
        },
        "id": "CrVfI-Yqiqqn",
        "outputId": "a6fd5d03-67cd-4477-b51e-0a61f1699ed0"
      },
      "execution_count": null,
      "outputs": [
        {
          "output_type": "execute_result",
          "data": {
            "text/plain": [
              "array(['vbar_categorical', 'hbar_categorical', 'line', 'pie', 'dot_line'],\n",
              "      dtype=object)"
            ]
          },
          "metadata": {},
          "execution_count": 4
        }
      ]
    },
    {
      "cell_type": "markdown",
      "source": [
        "[Pandas select column with index](https://www.statology.org/pandas-select-column-by-index/)"
      ],
      "metadata": {
        "id": "MvR6d4Jb3Sn3"
      }
    },
    {
      "cell_type": "code",
      "source": [
        "df.loc[8,'type']"
      ],
      "metadata": {
        "colab": {
          "base_uri": "https://localhost:8080/",
          "height": 36
        },
        "id": "fhgY5axKwoik",
        "outputId": "a63bb718-9a5e-4907-c367-2dfd0bc208e2"
      },
      "execution_count": null,
      "outputs": [
        {
          "output_type": "execute_result",
          "data": {
            "text/plain": [
              "'vbar_categorical'"
            ],
            "application/vnd.google.colaboratory.intrinsic+json": {
              "type": "string"
            }
          },
          "metadata": {},
          "execution_count": 5
        }
      ]
    },
    {
      "cell_type": "code",
      "source": [
        "test_dir = \"/content/drive/MyDrive/IIT Jodhpur/charts/test\"\n",
        "train_dir = \"/content/drive/MyDrive/IIT Jodhpur/charts/train_val\"\n",
        "\n",
        "import os\n",
        "train_paths = os.listdir(train_dir)\n",
        "test_paths = os.listdir(test_dir)\n",
        "print(len(train_paths))\n",
        "print(len(test_paths))"
      ],
      "metadata": {
        "colab": {
          "base_uri": "https://localhost:8080/"
        },
        "id": "7xyeyatdjSyf",
        "outputId": "3f9cdb51-58eb-4ac8-8fa9-973fd59970ad"
      },
      "execution_count": null,
      "outputs": [
        {
          "output_type": "stream",
          "name": "stdout",
          "text": [
            "1000\n",
            "50\n"
          ]
        }
      ]
    },
    {
      "cell_type": "code",
      "source": [
        "int(train_paths[1].split(\".\")[0])"
      ],
      "metadata": {
        "colab": {
          "base_uri": "https://localhost:8080/"
        },
        "id": "nXnQHzPVmCR9",
        "outputId": "ba67dd87-d66e-4326-c335-e3f8a95c7e9b"
      },
      "execution_count": null,
      "outputs": [
        {
          "output_type": "execute_result",
          "data": {
            "text/plain": [
              "32"
            ]
          },
          "metadata": {},
          "execution_count": 7
        }
      ]
    },
    {
      "cell_type": "code",
      "source": [
        "import numpy as np\n",
        "import cv2\n",
        "def sort_data(dir, data, df):\n",
        "    images = []\n",
        "    labels = []\n",
        "    for i in range(len(data)):\n",
        "        img = cv2.imread(os.path.join(dir, data[i]))\n",
        "        index = int(data[i].split(\".\")[0])\n",
        "        label = df.loc[index, 'type']\n",
        "        labels.append(label)\n",
        "        images.append(img)\n",
        "    return np.array(images), np.array(labels)\n",
        "\n",
        "X_train, Y_train = sort_data(train_dir, train_paths, df)\n",
        "\n",
        "print(X_train.shape)\n",
        "print(Y_train.shape)"
      ],
      "metadata": {
        "colab": {
          "base_uri": "https://localhost:8080/"
        },
        "id": "SFLEJ7PDli6R",
        "outputId": "99a76b6d-f585-4d63-aef1-b4a51c671a11"
      },
      "execution_count": null,
      "outputs": [
        {
          "output_type": "stream",
          "name": "stdout",
          "text": [
            "(1000, 128, 128, 3)\n",
            "(1000,)\n"
          ]
        }
      ]
    },
    {
      "cell_type": "code",
      "source": [
        "from sklearn.model_selection import train_test_split\n",
        " \n",
        "x_train, x_validation, y_train, y_validation = train_test_split(\n",
        "    X_train, \n",
        "    Y_train, \n",
        "    test_size=200, \n",
        "    shuffle=True,\n",
        "    random_state=42,\n",
        "    stratify=Y_train\n",
        ")\n",
        "\n",
        "print(x_train.shape)\n",
        "print(y_train.shape)\n",
        "print(x_validation.shape)\n",
        "print(y_validation.shape)"
      ],
      "metadata": {
        "colab": {
          "base_uri": "https://localhost:8080/"
        },
        "id": "aktr-YPJtc1C",
        "outputId": "ea65636e-f90e-46de-d325-6f445a832b86"
      },
      "execution_count": null,
      "outputs": [
        {
          "output_type": "stream",
          "name": "stdout",
          "text": [
            "(800, 128, 128, 3)\n",
            "(800,)\n",
            "(200, 128, 128, 3)\n",
            "(200,)\n"
          ]
        }
      ]
    },
    {
      "cell_type": "code",
      "source": [
        "X_test, _ = sort_data(test_dir, test_paths, df)\n",
        "print(X_test.shape)"
      ],
      "metadata": {
        "colab": {
          "base_uri": "https://localhost:8080/"
        },
        "id": "S9xDCuL42o_R",
        "outputId": "83daf733-f178-4d54-b911-94dbd779bfcc"
      },
      "execution_count": null,
      "outputs": [
        {
          "output_type": "stream",
          "name": "stdout",
          "text": [
            "(50, 128, 128, 3)\n"
          ]
        }
      ]
    },
    {
      "cell_type": "code",
      "source": [
        "print(np.unique(y_train, return_counts=True))\n",
        "print(np.unique(y_validation, return_counts=True))"
      ],
      "metadata": {
        "colab": {
          "base_uri": "https://localhost:8080/"
        },
        "id": "j1A3RW12MWpJ",
        "outputId": "4f3fc0d8-2c99-4bcd-c264-642e6af4ceb7"
      },
      "execution_count": null,
      "outputs": [
        {
          "output_type": "stream",
          "name": "stdout",
          "text": [
            "(array(['dot_line', 'hbar_categorical', 'line', 'pie', 'vbar_categorical'],\n",
            "      dtype='<U16'), array([160, 160, 160, 160, 160]))\n",
            "(array(['dot_line', 'hbar_categorical', 'line', 'pie', 'vbar_categorical'],\n",
            "      dtype='<U16'), array([40, 40, 40, 40, 40]))\n"
          ]
        }
      ]
    },
    {
      "cell_type": "code",
      "source": [
        "from sklearn.preprocessing import LabelEncoder\n",
        "# prepare target\n",
        "\n",
        "le = LabelEncoder()\n",
        "le.fit(y_train)\n",
        "y_train_enc = le.transform(y_train)\n",
        "y_validation_enc = le.transform(y_validation)\n",
        "\n",
        "print(np.unique(y_train_enc, return_counts=True))\n",
        "print(np.unique(y_validation_enc, return_counts=True))"
      ],
      "metadata": {
        "id": "mjHQWubT79LX",
        "colab": {
          "base_uri": "https://localhost:8080/"
        },
        "outputId": "d3fc9fee-cc13-4ba8-d8bf-4a0fc862ad85"
      },
      "execution_count": null,
      "outputs": [
        {
          "output_type": "stream",
          "name": "stdout",
          "text": [
            "(array([0, 1, 2, 3, 4]), array([160, 160, 160, 160, 160]))\n",
            "(array([0, 1, 2, 3, 4]), array([40, 40, 40, 40, 40]))\n"
          ]
        }
      ]
    },
    {
      "cell_type": "code",
      "source": [
        "print(y_train[5])\n",
        "print(np.array(y_train_enc[5]))"
      ],
      "metadata": {
        "colab": {
          "base_uri": "https://localhost:8080/"
        },
        "id": "OK7R1s_u0ub6",
        "outputId": "c3a2468b-4dcb-4ba0-cbaa-f791386fc705"
      },
      "execution_count": null,
      "outputs": [
        {
          "output_type": "stream",
          "name": "stdout",
          "text": [
            "vbar_categorical\n",
            "4\n"
          ]
        }
      ]
    },
    {
      "cell_type": "code",
      "source": [
        "import matplotlib.pyplot as plt\n",
        "import cv2\n",
        "n = np.random.randint(0, 800, 6)\n",
        "plt.figure(figsize=(20, 4))\n",
        "for i in range(1, len(n)+1): \n",
        "    ax = plt.subplot(1, len(n), i)\n",
        "    img = x_train[n[i-1]]\n",
        "    plt.imshow(img)\n",
        "    # plt.title(Y_train[n[i-1]])\n",
        "    ax.text(0.7, -0.4, \"label-{0}\\nencoded-{1}\".format(y_train[n[i-1]], y_train_enc[n[i-1]]),\n",
        "    verticalalignment='bottom', horizontalalignment='right',\n",
        "    transform=ax.transAxes, fontsize=10)\n",
        "    plt.axis(\"off\")\n",
        "plt.show()"
      ],
      "metadata": {
        "colab": {
          "base_uri": "https://localhost:8080/",
          "height": 245
        },
        "id": "krs4epY7yoDE",
        "outputId": "484ed2c3-ed42-4876-9829-e71903526cad"
      },
      "execution_count": null,
      "outputs": [
        {
          "output_type": "display_data",
          "data": {
            "text/plain": [
              "<Figure size 1440x288 with 6 Axes>"
            ],
            "image/png": "[encoded data removed]"
          },
          "metadata": {
            "needs_background": "light"
          }
        }
      ]
    },
    {
      "cell_type": "code",
      "source": [
        "print(y_train.shape)\n",
        "print(y_validation.shape)"
      ],
      "metadata": {
        "colab": {
          "base_uri": "https://localhost:8080/"
        },
        "id": "CtTpEACG8ccd",
        "outputId": "94b121bb-e731-40b7-c402-dcb506615c8f"
      },
      "execution_count": null,
      "outputs": [
        {
          "output_type": "stream",
          "name": "stdout",
          "text": [
            "(800,)\n",
            "(200,)\n"
          ]
        }
      ]
    },
    {
      "cell_type": "code",
      "source": [
        "print(type(x_train))\n",
        "print(type(x_validation))\n",
        "print(type(y_train))\n",
        "print(type(y_validation))\n",
        "print(type(y_train_enc))\n",
        "print(type(y_validation_enc))"
      ],
      "metadata": {
        "colab": {
          "base_uri": "https://localhost:8080/"
        },
        "id": "DcrCw8UJx-Ga",
        "outputId": "4b19ee6f-8390-434e-94df-b8184340e7df"
      },
      "execution_count": null,
      "outputs": [
        {
          "output_type": "stream",
          "name": "stdout",
          "text": [
            "<class 'numpy.ndarray'>\n",
            "<class 'numpy.ndarray'>\n",
            "<class 'numpy.ndarray'>\n",
            "<class 'numpy.ndarray'>\n",
            "<class 'numpy.ndarray'>\n",
            "<class 'numpy.ndarray'>\n"
          ]
        }
      ]
    },
    {
      "cell_type": "code",
      "source": [
        "# print(f'label: {Y_train[100]}, encoded: {y_train_enc[100]}, categorical: {y_train[100]}')\n",
        "# print(f'label: {Y_train[170]}, encoded: {y_train_enc[170]}, categorical: {y_train[170]}')\n",
        "# print(f'label: {Y_train[30]}, encoded: {y_train_enc[30]}, categorical: {y_train[30]}')\n",
        "# print(f'label: {Y_train[10]}, encoded: {y_train_enc[10]}, categorical: {y_train[10]}')\n",
        "# print(f'label: {Y_train[60]}, encoded: {y_train_enc[60]}, categorical: {y_train[60]}')"
      ],
      "metadata": {
        "id": "Pf4BHOiUD9y9"
      },
      "execution_count": null,
      "outputs": []
    },
    {
      "cell_type": "code",
      "source": [
        "from enum import Enum\n",
        "class Number(Enum):\n",
        "    dot_line = 0\n",
        "    hbar = 1\n",
        "    line = 2\n",
        "    pie = 3\n",
        "    vbar = 4"
      ],
      "metadata": {
        "id": "p7aZoHvvNZCC"
      },
      "execution_count": null,
      "outputs": []
    },
    {
      "cell_type": "code",
      "source": [
        "# from keras.models import Sequential\n",
        "# from keras.layers import Dense, Conv2D, Flatten\n",
        "\n",
        "# model = Sequential()\n",
        "# model.add(Conv2D(32, kernel_size=5, activation='relu', input_shape=(128,128,3)))\n",
        "# model.add(Conv2D(8, kernel_size=3, activation='relu'))\n",
        "# model.add(Flatten())\n",
        "# model.add(Dense(5))\n",
        "\n",
        "import tensorflow as tf\n",
        "from tensorflow import keras\n",
        "from tensorflow.keras import layers\n",
        "\n",
        "inputs = tf.keras.Input(shape=(128, 128, 3))\n",
        "x = tf.keras.layers.Conv2D(filters=32, kernel_size=10)(inputs)\n",
        "x = tf.keras.layers.Conv2D(filters=8, kernel_size=5)(x)\n",
        "x = tf.keras.layers.Flatten()(x)\n",
        "out = tf.keras.layers.Dense(5)(x)\n",
        "\n",
        "model = keras.Model(inputs, out)\n",
        "model.summary()"
      ],
      "metadata": {
        "id": "7Iz1t4TQ8l5Y",
        "colab": {
          "base_uri": "https://localhost:8080/"
        },
        "outputId": "088f3403-21e8-46df-c52e-8754cb55a237"
      },
      "execution_count": null,
      "outputs": [
        {
          "output_type": "stream",
          "name": "stdout",
          "text": [
            "Model: \"model_1\"\n",
            "_________________________________________________________________\n",
            " Layer (type)                Output Shape              Param #   \n",
            "=================================================================\n",
            " input_2 (InputLayer)        [(None, 128, 128, 3)]     0         \n",
            "                                                                 \n",
            " conv2d_2 (Conv2D)           (None, 119, 119, 32)      9632      \n",
            "                                                                 \n",
            " conv2d_3 (Conv2D)           (None, 115, 115, 8)       6408      \n",
            "                                                                 \n",
            " flatten_1 (Flatten)         (None, 105800)            0         \n",
            "                                                                 \n",
            " dense_1 (Dense)             (None, 5)                 529005    \n",
            "                                                                 \n",
            "=================================================================\n",
            "Total params: 545,045\n",
            "Trainable params: 545,045\n",
            "Non-trainable params: 0\n",
            "_________________________________________________________________\n"
          ]
        }
      ]
    },
    {
      "cell_type": "code",
      "source": [
        "model.compile(\n",
        "    optimizer=tf.keras.optimizers.Adam(),\n",
        "    loss=tf.keras.losses.SparseCategoricalCrossentropy(from_logits=True),\n",
        "    metrics=[tf.keras.metrics.SparseCategoricalAccuracy()],\n",
        ")"
      ],
      "metadata": {
        "id": "UrHOOS4k-Gcv"
      },
      "execution_count": null,
      "outputs": []
    },
    {
      "cell_type": "code",
      "source": [
        "history = model.fit(x_train, y_train_enc, batch_size=16, validation_data=(x_validation, y_validation_enc), epochs=4)"
      ],
      "metadata": {
        "colab": {
          "base_uri": "https://localhost:8080/"
        },
        "id": "tn5KMxNz-JaM",
        "outputId": "0e955746-7bdc-4cbf-cd3f-54eededf52c9"
      },
      "execution_count": null,
      "outputs": [
        {
          "output_type": "stream",
          "name": "stdout",
          "text": [
            "Epoch 1/4\n",
            "50/50 [==============================] - 76s 1s/step - loss: 5529.7031 - sparse_categorical_accuracy: 0.2300 - val_loss: 913.4575 - val_sparse_categorical_accuracy: 0.3000\n",
            "Epoch 2/4\n",
            "50/50 [==============================] - 66s 1s/step - loss: 274.7466 - sparse_categorical_accuracy: 0.5387 - val_loss: 11.3780 - val_sparse_categorical_accuracy: 0.7950\n",
            "Epoch 3/4\n",
            "50/50 [==============================] - 66s 1s/step - loss: 9.2789 - sparse_categorical_accuracy: 0.8625 - val_loss: 7.8215 - val_sparse_categorical_accuracy: 0.8150\n",
            "Epoch 4/4\n",
            "50/50 [==============================] - 69s 1s/step - loss: 0.9763 - sparse_categorical_accuracy: 0.9663 - val_loss: 5.4097 - val_sparse_categorical_accuracy: 0.8600\n"
          ]
        }
      ]
    },
    {
      "cell_type": "code",
      "source": [
        "history.history.keys()"
      ],
      "metadata": {
        "colab": {
          "base_uri": "https://localhost:8080/"
        },
        "id": "ZrO14JMs4XpT",
        "outputId": "592fc454-aca7-44b3-8816-fe37d36698dd"
      },
      "execution_count": null,
      "outputs": [
        {
          "output_type": "execute_result",
          "data": {
            "text/plain": [
              "dict_keys(['loss', 'sparse_categorical_accuracy', 'val_loss', 'val_sparse_categorical_accuracy'])"
            ]
          },
          "metadata": {},
          "execution_count": 42
        }
      ]
    },
    {
      "cell_type": "code",
      "source": [
        "def plot_accuracy_and_loss(history):\n",
        "    acc = history.history['sparse_categorical_accuracy']\n",
        "    val_acc = history.history['val_sparse_categorical_accuracy']\n",
        "    loss = history.history['loss']\n",
        "    val_loss = history.history['val_loss']\n",
        "\n",
        "    epochs = range(1, len(acc) + 1)\n",
        "\n",
        "    plt.plot(epochs, acc, '--r', label='Training acc')\n",
        "    plt.plot(epochs, val_acc, 'b', label='Validation acc')\n",
        "    plt.title('Training and validation accuracy')\n",
        "    plt.legend()\n",
        "    plt.show()\n",
        "\n",
        "    plt.plot(epochs, loss, '--r', label='Training loss')\n",
        "    plt.plot(epochs, val_loss, 'b', label='Validation loss')\n",
        "    plt.title('Training and validation loss')\n",
        "    plt.legend()\n",
        "    plt.show()\n",
        "\n",
        "plot_accuracy_and_loss(history)"
      ],
      "metadata": {
        "colab": {
          "base_uri": "https://localhost:8080/",
          "height": 545
        },
        "id": "GSLSBpV2ASRb",
        "outputId": "a4ba9c51-2ecd-4ad3-96a2-a5bdb025c782"
      },
      "execution_count": null,
      "outputs": [
        {
          "output_type": "display_data",
          "data": {
            "text/plain": [
              "<Figure size 432x288 with 1 Axes>"
            ],
            "image/png": "[encoded data removed]"
          },
          "metadata": {
            "needs_background": "light"
          }
        },
        {
          "output_type": "display_data",
          "data": {
            "text/plain": [
              "<Figure size 432x288 with 1 Axes>"
            ],
            "image/png": "[encoded data removed]"
          },
          "metadata": {
            "needs_background": "light"
          }
        }
      ]
    },
    {
      "cell_type": "code",
      "source": [
        "model.save(\"/content/drive/MyDrive/IIT Jodhpur/models/simple-cnn3\")"
      ],
      "metadata": {
        "colab": {
          "base_uri": "https://localhost:8080/"
        },
        "id": "LzbUDjhm-6jd",
        "outputId": "448722da-e467-4c85-ccbd-84c6d45371e1"
      },
      "execution_count": null,
      "outputs": [
        {
          "output_type": "stream",
          "name": "stdout",
          "text": [
            "INFO:tensorflow:Assets written to: /content/drive/MyDrive/IIT Jodhpur/models/simple-cnn3/assets\n"
          ]
        },
        {
          "output_type": "stream",
          "name": "stderr",
          "text": [
            "INFO:tensorflow:Assets written to: /content/drive/MyDrive/IIT Jodhpur/models/simple-cnn3/assets\n"
          ]
        }
      ]
    },
    {
      "cell_type": "code",
      "source": [
        "prediction = model.predict(X_test[:3])\n",
        "print(prediction)"
      ],
      "metadata": {
        "colab": {
          "base_uri": "https://localhost:8080/"
        },
        "id": "U4d50rx1-ioI",
        "outputId": "3926e0ae-e883-4afa-dc17-a69231addf4e"
      },
      "execution_count": null,
      "outputs": [
        {
          "output_type": "stream",
          "name": "stdout",
          "text": [
            "[[  68.0452     158.7216     119.48283    -91.22133    862.7721   ]\n",
            " [ 160.35751    565.6691     256.43167   -125.03142     92.32791  ]\n",
            " [  76.45084     -1.4582683   92.56861   -124.84175    989.0488   ]]\n"
          ]
        }
      ]
    },
    {
      "cell_type": "code",
      "source": [
        "print(tf.keras.utils.to_categorical( np.argmax(prediction[0]), num_classes=5, dtype='float32'))\n",
        "print(np.argmax(prediction[0]))"
      ],
      "metadata": {
        "colab": {
          "base_uri": "https://localhost:8080/"
        },
        "id": "mJMSnJWNE5io",
        "outputId": "4b9b6efc-da43-4143-e936-86cc172cc3ae"
      },
      "execution_count": null,
      "outputs": [
        {
          "output_type": "stream",
          "name": "stdout",
          "text": [
            "[0. 0. 0. 0. 1.]\n",
            "4\n"
          ]
        }
      ]
    },
    {
      "cell_type": "code",
      "source": [
        "import numpy as np\n",
        "prediction = model.predict(X_test[:6])\n",
        "# print(prediction)\n",
        "\n",
        "fig=plt.figure(figsize=(20, 4))\n",
        "n = 6\n",
        "for i in range(1, n +1):\n",
        "    ax = fig.add_subplot(1, n, i)\n",
        "\n",
        "    # actual_label = y_test_enc[i-1]\n",
        "    prediction_label = np.argmax(prediction[i-1])\n",
        "    ax.title.set_text('Prediction: {} --> {}'.format(prediction_label, Number(prediction_label).name))\n",
        "    image = X_test[i-1]\n",
        "    plt.imshow(image)\n",
        "    plt.axis(\"off\")\n",
        "plt.show()"
      ],
      "metadata": {
        "colab": {
          "base_uri": "https://localhost:8080/",
          "height": 199
        },
        "id": "ERMwQAc0Fnn5",
        "outputId": "17759d26-d53e-4dae-866b-cdd18da06141"
      },
      "execution_count": null,
      "outputs": [
        {
          "output_type": "display_data",
          "data": {
            "text/plain": [
              "<Figure size 1440x288 with 6 Axes>"
            ],
            "image/png": "[encoded data removed]"
          },
          "metadata": {
            "needs_background": "light"
          }
        }
      ]
    },
    {
      "cell_type": "code",
      "source": [
        "# import numpy as np\n",
        "# n = np.random.randint(0, 50, 6)\n",
        "\n",
        "# fig=plt.figure(figsize=(20, 4))\n",
        "\n",
        "# for i in range(1, len(n)):\n",
        "#     ax = fig.add_subplot(1, len(n), i)\n",
        "#     prediction = model.predict(X_test[n[i-1]])\n",
        "#     # actual_label = y_test_enc[i-1]\n",
        "#     prediction_label = np.argmax(prediction)\n",
        "#     ax.title.set_text('Prediction: {} --> {}'.format(prediction_label, Number(prediction_label).name))\n",
        "#     image = X_test[n[i-1]]\n",
        "#     plt.imshow(image)\n",
        "#     plt.axis(\"off\")\n",
        "# plt.show()\n",
        "\n",
        "# X_test[n[0]].shape\n"
      ],
      "metadata": {
        "id": "Dk525-81SX3I"
      },
      "execution_count": null,
      "outputs": []
    },
    {
      "cell_type": "code",
      "source": [
        "import tensorflow as tf\n",
        "from tensorflow import keras\n",
        "from tensorflow.keras import layers\n",
        "\n",
        "def get_model(units1, units2, units3, units4, lr):\n",
        "    input = keras.Input(shape=(180, 180, 3))\n",
        "    x = tf.keras.layers.Conv2D(filters=units1, kernel_size=units2)(inputs)\n",
        "    x = tf.keras.layers.Conv2D(filters=units3, kernel_size=units4)(x)\n",
        "    x = tf.keras.layers.Flatten()(x)\n",
        "    out = tf.keras.layers.Dense(5)(x)\n",
        "\n",
        "    model = keras.Model(inputs, out)\n",
        "\n",
        "    model.compile(\n",
        "        optimizer=tf.keras.optimizers.Adam(learning_rate=lr),\n",
        "        loss=tf.keras.losses.SparseCategoricalCrossentropy(from_logits=True),\n",
        "        metrics=[tf.keras.metrics.SparseCategoricalAccuracy()],\n",
        "    )\n",
        "\n",
        "    return model\n",
        "\n",
        "def build_model(hp):\n",
        "    units1 = hp.Int(\"units1\", min_value=15, max_value=50, step=5)\n",
        "    # dropout1 = hp.Boolean(\"dropout1\")\n",
        "    units2 = hp.Int(\"units2\", min_value=2, max_value=20, step=2)\n",
        "    # dropout2 = hp.Boolean(\"dropout2\")\n",
        "    units3 = hp.Int(\"units3\", min_value=4, max_value=20, step=5)\n",
        "\n",
        "    units4 = hp.Int(\"units4\", min_value=2, max_value=15, step=2)\n",
        "    # dropout3 = hp.Boolean(\"dropout3\")\n",
        "    # dropout4 = hp.Boolean(\"dropout4\")\n",
        "    lr = hp.Float(\"lr\", min_value=1e-4, max_value=1e-2, sampling=\"log\")\n",
        "    # activation=hp.Choice(\"activation\", [\"relu\", \"sigmoid\"])\n",
        "    \n",
        "    model = get_model(units1=units1,\n",
        "                      units2=units2,\n",
        "                      units3=units3,\n",
        "                      units4=units4,\n",
        "                    #   activation=activation, \n",
        "                    #   dropout1=dropout1,\n",
        "                    #   dropout2=dropout2,\n",
        "                    #   dropout3=dropout3,\n",
        "                    #   dropout4=dropout4,\n",
        "                      lr=lr)\n",
        "    return model"
      ],
      "metadata": {
        "id": "YWbeDKyPclUE"
      },
      "execution_count": null,
      "outputs": []
    },
    {
      "cell_type": "code",
      "source": [
        "early_stopping = tf.keras.callbacks.EarlyStopping(\n",
        "    monitor=\"val_loss\",\n",
        "    min_delta=0.00001,\n",
        "    patience=3,\n",
        "    verbose=0,\n",
        "    mode=\"auto\",\n",
        "    baseline=0.98,\n",
        "    restore_best_weights=True,\n",
        ")"
      ],
      "metadata": {
        "id": "g0SmOq1H9zKy"
      },
      "execution_count": null,
      "outputs": []
    },
    {
      "cell_type": "code",
      "source": [
        "!pip install keras-tuner -q"
      ],
      "metadata": {
        "colab": {
          "base_uri": "https://localhost:8080/"
        },
        "id": "gYhcLlv9_Fhc",
        "outputId": "291fb466-2e95-4aff-9f9f-1e4c0d343036"
      },
      "execution_count": null,
      "outputs": [
        {
          "output_type": "stream",
          "name": "stdout",
          "text": [
            "\u001b[?25l\r\u001b[K     |██▍                             | 10 kB 21.4 MB/s eta 0:00:01\r\u001b[K     |████▉                           | 20 kB 27.8 MB/s eta 0:00:01\r\u001b[K     |███████▎                        | 30 kB 30.9 MB/s eta 0:00:01\r\u001b[K     |█████████▋                      | 40 kB 33.4 MB/s eta 0:00:01\r\u001b[K     |████████████                    | 51 kB 21.5 MB/s eta 0:00:01\r\u001b[K     |██████████████▌                 | 61 kB 23.8 MB/s eta 0:00:01\r\u001b[K     |█████████████████               | 71 kB 25.3 MB/s eta 0:00:01\r\u001b[K     |███████████████████▎            | 81 kB 25.4 MB/s eta 0:00:01\r\u001b[K     |█████████████████████▊          | 92 kB 27.4 MB/s eta 0:00:01\r\u001b[K     |████████████████████████▏       | 102 kB 28.7 MB/s eta 0:00:01\r\u001b[K     |██████████████████████████▋     | 112 kB 28.7 MB/s eta 0:00:01\r\u001b[K     |█████████████████████████████   | 122 kB 28.7 MB/s eta 0:00:01\r\u001b[K     |███████████████████████████████▍| 133 kB 28.7 MB/s eta 0:00:01\r\u001b[K     |████████████████████████████████| 135 kB 28.7 MB/s \n",
            "\u001b[?25h"
          ]
        }
      ]
    },
    {
      "cell_type": "code",
      "source": [
        "import keras_tuner\n",
        "build_model(keras_tuner.HyperParameters())  "
      ],
      "metadata": {
        "colab": {
          "base_uri": "https://localhost:8080/"
        },
        "id": "x9smR2tp8tTQ",
        "outputId": "44caebee-07a8-4ad5-de7d-a0fcc0c2f034"
      },
      "execution_count": null,
      "outputs": [
        {
          "output_type": "execute_result",
          "data": {
            "text/plain": [
              "<keras.engine.functional.Functional at 0x7fc5c61847d0>"
            ]
          },
          "metadata": {},
          "execution_count": 59
        }
      ]
    },
    {
      "cell_type": "code",
      "source": [
        "tuner = keras_tuner.RandomSearch(\n",
        "    hypermodel=build_model,\n",
        "    objective=\"val_sparse_categorical_accuracy\",\n",
        "    max_trials=2,\n",
        "    executions_per_trial=2,\n",
        "    overwrite=True,\n",
        "    directory=\"/content/drive/MyDrive/IIT Jodhpur/models/tuner\",\n",
        "    project_name=\"cnn-scratch\"\n",
        ")"
      ],
      "metadata": {
        "id": "oQixNJSN8w3P"
      },
      "execution_count": null,
      "outputs": []
    },
    {
      "cell_type": "code",
      "source": [
        "tuner.search_space_summary()"
      ],
      "metadata": {
        "colab": {
          "base_uri": "https://localhost:8080/"
        },
        "id": "toVMdXOy9GLJ",
        "outputId": "093ccfe6-85fa-42ec-c38f-f2fd2f397db9"
      },
      "execution_count": null,
      "outputs": [
        {
          "output_type": "stream",
          "name": "stdout",
          "text": [
            "Search space summary\n",
            "Default search space size: 5\n",
            "units1 (Int)\n",
            "{'default': None, 'conditions': [], 'min_value': 15, 'max_value': 50, 'step': 5, 'sampling': None}\n",
            "units2 (Int)\n",
            "{'default': None, 'conditions': [], 'min_value': 2, 'max_value': 20, 'step': 2, 'sampling': None}\n",
            "units3 (Int)\n",
            "{'default': None, 'conditions': [], 'min_value': 4, 'max_value': 20, 'step': 5, 'sampling': None}\n",
            "units4 (Int)\n",
            "{'default': None, 'conditions': [], 'min_value': 2, 'max_value': 15, 'step': 2, 'sampling': None}\n",
            "lr (Float)\n",
            "{'default': 0.0001, 'conditions': [], 'min_value': 0.0001, 'max_value': 0.01, 'step': None, 'sampling': 'log'}\n"
          ]
        }
      ]
    },
    {
      "cell_type": "code",
      "source": [
        "tuner.search(x_train, y_train_enc,\n",
        "             epochs=4,\n",
        "             validation_data=(x_validation, y_validation_enc),\n",
        "             callbacks=[early_stopping])"
      ],
      "metadata": {
        "colab": {
          "base_uri": "https://localhost:8080/"
        },
        "id": "IKttEGm19NBj",
        "outputId": "118789f6-9d02-4e92-8db8-6c209b0da141"
      },
      "execution_count": null,
      "outputs": [
        {
          "output_type": "stream",
          "name": "stdout",
          "text": [
            "Trial 2 Complete [00h 14m 36s]\n",
            "val_sparse_categorical_accuracy: 0.3675000071525574\n",
            "\n",
            "Best val_sparse_categorical_accuracy So Far: 0.7150000035762787\n",
            "Total elapsed time: 00h 17m 23s\n",
            "INFO:tensorflow:Oracle triggered exit\n"
          ]
        },
        {
          "output_type": "stream",
          "name": "stderr",
          "text": [
            "INFO:tensorflow:Oracle triggered exit\n"
          ]
        }
      ]
    }
  ]
}